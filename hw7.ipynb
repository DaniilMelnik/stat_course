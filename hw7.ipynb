{
 "cells": [
  {
   "cell_type": "code",
   "execution_count": 1,
   "metadata": {},
   "outputs": [],
   "source": [
    "import numpy as np\n",
    "import matplotlib.pyplot as plt"
   ]
  },
  {
   "cell_type": "markdown",
   "metadata": {},
   "source": [
    "1. Даны значения величины заработной платы заемщиков банка (zp) и значения их поведенческого кредитного скоринга (ks): zp = [35, 45, 190, 200, 40, 70, 54, 150, 120, 110], ks = [401, 574, 874, 919, 459, 739, 653, 902, 746, 832]. Используя математические операции, посчитать коэффициенты линейной регрессии, приняв за X заработную плату (то есть, zp - признак), а за y - значения скорингового балла (то есть, ks - целевая переменная). Произвести расчет как с использованием intercept, так и без."
   ]
  },
  {
   "cell_type": "code",
   "execution_count": 2,
   "metadata": {},
   "outputs": [],
   "source": [
    "zp = np.array([35, 45, 190, 200, 40, 70, 54, 150, 120, 110])\n",
    "ks = np.array([401, 574, 874, 919, 459, 739, 653, 902, 746, 832])"
   ]
  },
  {
   "cell_type": "markdown",
   "metadata": {},
   "source": [
    "Прямой метод"
   ]
  },
  {
   "cell_type": "code",
   "execution_count": 3,
   "metadata": {},
   "outputs": [
    {
     "name": "stdout",
     "output_type": "stream",
     "text": [
      "444.17735732435955 2.6205388824027653\n"
     ]
    }
   ],
   "source": [
    "n = len(zp)\n",
    "b = (n * sum(zp * ks) - sum(zp) * sum(ks)) / (n * sum(zp ** 2) - sum(zp) ** 2)\n",
    "a = np.mean(ks) - b * np.mean(zp)\n",
    "print(a, b)"
   ]
  },
  {
   "cell_type": "markdown",
   "metadata": {},
   "source": [
    "Матричный метод"
   ]
  },
  {
   "cell_type": "code",
   "execution_count": 4,
   "metadata": {},
   "outputs": [
    {
     "data": {
      "text/plain": [
       "array([444.17735732,   2.62053888])"
      ]
     },
     "execution_count": 4,
     "metadata": {},
     "output_type": "execute_result"
    }
   ],
   "source": [
    "X = np.hstack([np.ones((10, 1)), zp.reshape((10, 1))])\n",
    "B = np.dot(np.linalg.inv(np.dot(X.T, X)), X.T@ ks)\n",
    "B"
   ]
  },
  {
   "cell_type": "code",
   "execution_count": 5,
   "metadata": {},
   "outputs": [
    {
     "data": {
      "image/png": "[encoded data removed]",
      "text/plain": [
       "<Figure size 432x288 with 1 Axes>"
      ]
     },
     "metadata": {
      "needs_background": "light"
     },
     "output_type": "display_data"
    }
   ],
   "source": [
    "x = np.arange(0, 220, 5)\n",
    "y = a + b * x\n",
    "plt.scatter(zp, ks)\n",
    "plt.plot(x,y,)\n",
    "plt.show()"
   ]
  },
  {
   "cell_type": "markdown",
   "metadata": {},
   "source": [
    "Без интерсепта"
   ]
  },
  {
   "cell_type": "code",
   "execution_count": 6,
   "metadata": {},
   "outputs": [
    {
     "data": {
      "text/plain": [
       "array([5.88982042])"
      ]
     },
     "execution_count": 6,
     "metadata": {},
     "output_type": "execute_result"
    }
   ],
   "source": [
    "X = zp.reshape((10, 1))\n",
    "B = np.dot(np.linalg.inv(np.dot(X.T, X)), X.T@ ks)\n",
    "B"
   ]
  },
  {
   "cell_type": "code",
   "execution_count": 7,
   "metadata": {},
   "outputs": [
    {
     "data": {
      "image/png": "[encoded data removed]",
      "text/plain": [
       "<Figure size 432x288 with 1 Axes>"
      ]
     },
     "metadata": {
      "needs_background": "light"
     },
     "output_type": "display_data"
    }
   ],
   "source": [
    "x = np.arange(0, 220, 5)\n",
    "y = B * x\n",
    "plt.scatter(zp, ks)\n",
    "plt.plot(x,y,)\n",
    "plt.show()"
   ]
  },
  {
   "cell_type": "markdown",
   "metadata": {},
   "source": [
    "2. Посчитать коэффициент линейной регрессии при заработной плате (zp), используя градиентный спуск (без intercept)."
   ]
  },
  {
   "cell_type": "code",
   "execution_count": 8,
   "metadata": {},
   "outputs": [],
   "source": [
    "def mse(B1, y, X, n):\n",
    "    return np.sum((B1 * X - y) ** 2) / n\n",
    "\n",
    "def run(X, y, alpha, n, B1=0.1):\n",
    "    data_len = len(X)\n",
    "    for i in range(n):\n",
    "        B1 -= alpha * (2 / data_len) * np.sum((B1 * X - y) * X)\n",
    "        if i % 100 == 0:\n",
    "            print(f'iteration {i} B1 = {B1} mse: {mse(B1, y, X, data_len)}')"
   ]
  },
  {
   "cell_type": "code",
   "execution_count": 9,
   "metadata": {},
   "outputs": [
    {
     "name": "stdout",
     "output_type": "stream",
     "text": [
      "iteration 0 B1 = 0.25952808 mse: 493237.7212546963\n",
      "iteration 100 B1 = 5.54537842245223 mse: 58151.31823171113\n",
      "iteration 200 B1 = 5.868748638669329 mse: 56522.97550129376\n",
      "iteration 300 B1 = 5.888531320728348 mse: 56516.88130936019\n",
      "iteration 400 B1 = 5.8897415574471985 mse: 56516.85850140053\n",
      "iteration 500 B1 = 5.889815595583751 mse: 56516.858416040064\n",
      "iteration 600 B1 = 5.889820124983314 mse: 56516.85841572062\n",
      "iteration 700 B1 = 5.889820402076462 mse: 56516.85841571941\n",
      "iteration 800 B1 = 5.88982041902807 mse: 56516.8584157194\n",
      "iteration 900 B1 = 5.889820420065112 mse: 56516.85841571941\n"
     ]
    }
   ],
   "source": [
    "run(zp, ks, 1e-6, 1000)"
   ]
  },
  {
   "cell_type": "markdown",
   "metadata": {},
   "source": [
    "3. В каких случаях для вычисления доверительных интервалов и проверки статистических гипотез используется таблица значений функции Лапласа, а в каких - таблица критических точек распределения Стьюдента?"
   ]
  },
  {
   "cell_type": "markdown",
   "metadata": {},
   "source": [
    "В случае если известна диперсия генеральной совокупности - функция Лапласа\n",
    "В случае если известна только дисперсия выборки - таблица стьюдента"
   ]
  },
  {
   "cell_type": "markdown",
   "metadata": {},
   "source": [
    "*4. Произвести вычисления как в пункте 2, но с вычислением intercept. Учесть, что изменение коэффициентов должно производиться на каждом шаге одновременно (то есть изменение одного коэффициента не должно влиять на изменение другого во время одной итерации)."
   ]
  },
  {
   "cell_type": "code",
   "execution_count": 72,
   "metadata": {},
   "outputs": [],
   "source": [
    "def mse(a, b, y, x, n):\n",
    "    return np.sum((a + b * x - y) ** 2) / n\n",
    "\n",
    "def run(x, y, alpha_a, alpha_b, n, a=0.1, b=0.1, show_result=1):\n",
    "    data_len = len(x)\n",
    "    for i in range(n):\n",
    "        da = alpha_a * (2 / data_len) * np.sum((a + b * x - y))\n",
    "        db = alpha_b * (2 / data_len) * np.sum((a + b * x - y) * x)\n",
    "        a -= da\n",
    "        b -= db\n",
    "        if i % show_result == 0:\n",
    "            print(f'iteration {i} a = {a}, b = {b} mse: {mse(a, b, y, x, data_len)}')"
   ]
  },
  {
   "cell_type": "code",
   "execution_count": 73,
   "metadata": {},
   "outputs": [
    {
     "name": "stdout",
     "output_type": "stream",
     "text": [
      "iteration 0 a = 1.4993199999999998, b = 0.2595078 mse: 491193.2872589591\n",
      "iteration 10000 a = 440.8964406472024, b = 2.6451163256652226 mse: 6473.147289513245\n",
      "iteration 20000 a = 444.15060745904475, b = 2.620739266430081 mse: 6470.4143828563865\n",
      "iteration 30000 a = 444.1771392282104, b = 2.6205405161674307 mse: 6470.414201188738\n",
      "iteration 40000 a = 444.1773555461847, b = 2.620538895723124 mse: 6470.414201176659\n"
     ]
    }
   ],
   "source": [
    "run(zp, ks, 1e-3, 1e-6, 50000, show_result=10000)"
   ]
  }
 ],
 "metadata": {
  "kernelspec": {
   "display_name": "Python 3",
   "language": "python",
   "name": "python3"
  },
  "language_info": {
   "codemirror_mode": {
    "name": "ipython",
    "version": 3
   },
   "file_extension": ".py",
   "mimetype": "text/x-python",
   "name": "python",
   "nbconvert_exporter": "python",
   "pygments_lexer": "ipython3",
   "version": "3.8.5"
  }
 },
 "nbformat": 4,
 "nbformat_minor": 4
}
