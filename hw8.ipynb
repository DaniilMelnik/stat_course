{
  "nbformat": 4,
  "nbformat_minor": 0,
  "metadata": {
    "colab": {
      "name": "hw8.ipynb",
      "provenance": []
    },
    "kernelspec": {
      "name": "python3",
      "display_name": "Python 3"
    },
    "language_info": {
      "name": "python"
    }
  },
  "cells": [
    {
      "cell_type": "code",
      "metadata": {
        "id": "gGtsfvMN7i3s"
      },
      "source": [
        "import numpy as np\n",
        "from scipy import stats"
      ],
      "execution_count": 3,
      "outputs": []
    },
    {
      "cell_type": "markdown",
      "metadata": {
        "id": "2xe7lRVe7r0i"
      },
      "source": [
        "1. Провести дисперсионный анализ для определения того, есть ли различия среднего роста среди взрослых футболистов, хоккеистов и штангистов. Даны значения роста в трех группах случайно выбранных спортсменов: Футболисты: 173, 175, 180, 178, 177, 185, 183, 182. Хоккеисты: 177, 179, 180, 188, 177, 172, 171, 184, 180. Штангисты: 172, 173, 169, 177, 166, 180, 178, 177, 172, 166, 170."
      ]
    },
    {
      "cell_type": "code",
      "metadata": {
        "id": "6px67D6Z7tJ_"
      },
      "source": [
        "fp = np.array([173, 175, 180, 178, 177, 185, 183, 182])\n",
        "hp = np.array([177, 179, 180, 188, 177, 172, 171, 184, 180])\n",
        "wl = np.array([172, 173, 169, 177, 166, 180, 178, 177, 172, 166, 170])"
      ],
      "execution_count": 38,
      "outputs": []
    },
    {
      "cell_type": "markdown",
      "metadata": {
        "id": "esOoCLQQDB_1"
      },
      "source": [
        "Решение с помощью функции:"
      ]
    },
    {
      "cell_type": "code",
      "metadata": {
        "colab": {
          "base_uri": "https://localhost:8080/"
        },
        "id": "A6b7LAyx7oYE",
        "outputId": "83c0e87b-0b06-43b0-fd92-dd46712e3662"
      },
      "source": [
        "stats.f_oneway(fp, hp, wl)"
      ],
      "execution_count": 5,
      "outputs": [
        {
          "output_type": "execute_result",
          "data": {
            "text/plain": [
              "F_onewayResult(statistic=5.500053450812596, pvalue=0.010482206918698694)"
            ]
          },
          "metadata": {},
          "execution_count": 5
        }
      ]
    },
    {
      "cell_type": "markdown",
      "metadata": {
        "id": "-pE_85TrDHMK"
      },
      "source": [
        "Решение вручную:"
      ]
    },
    {
      "cell_type": "code",
      "metadata": {
        "id": "7PIXzbpC82d7"
      },
      "source": [
        "k = 3\n",
        "n1 = len(fp)\n",
        "n2 = len(hp)\n",
        "n3 = len(wl)\n",
        "n = n1 + n2 + n3"
      ],
      "execution_count": 19,
      "outputs": []
    },
    {
      "cell_type": "code",
      "metadata": {
        "colab": {
          "base_uri": "https://localhost:8080/"
        },
        "id": "HZadz3MF9fjO",
        "outputId": "492903f0-a045-40fd-dc8e-7e49494be66a"
      },
      "source": [
        "y1_mean = np.mean(fp)\n",
        "y2_mean = np.mean(hp)\n",
        "y3_mean = np.mean(wl)\n",
        "y_mean = sum([y1*n1, y2*n2, y3*n3]) / n\n",
        "y_mean"
      ],
      "execution_count": 20,
      "outputs": [
        {
          "output_type": "execute_result",
          "data": {
            "text/plain": [
              "176.46428571428572"
            ]
          },
          "metadata": {},
          "execution_count": 20
        }
      ]
    },
    {
      "cell_type": "code",
      "metadata": {
        "colab": {
          "base_uri": "https://localhost:8080/"
        },
        "id": "uKzilLjE997Z",
        "outputId": "650388ed-cdbe-4935-ed07-fd9ec78935a1"
      },
      "source": [
        "y = fp + hp + wl\n",
        "s2 = sum((y - y_mean) ** 2)\n",
        "s2"
      ],
      "execution_count": 23,
      "outputs": [
        {
          "output_type": "execute_result",
          "data": {
            "text/plain": [
              "830.9642857142854"
            ]
          },
          "metadata": {},
          "execution_count": 23
        }
      ]
    },
    {
      "cell_type": "code",
      "metadata": {
        "colab": {
          "base_uri": "https://localhost:8080/"
        },
        "id": "DGbzv-sg9y0n",
        "outputId": "3b19a562-c750-47a1-e3ad-05ec19112d94"
      },
      "source": [
        "sf2 = ((y1_mean - y_mean) ** 2) * n1 + ((y2_mean - y_mean) ** 2) * n2 + ((y3_mean - y_mean) ** 2) * n3\n",
        "sf2"
      ],
      "execution_count": 27,
      "outputs": [
        {
          "output_type": "execute_result",
          "data": {
            "text/plain": [
              "253.9074675324678"
            ]
          },
          "metadata": {},
          "execution_count": 27
        }
      ]
    },
    {
      "cell_type": "code",
      "metadata": {
        "colab": {
          "base_uri": "https://localhost:8080/"
        },
        "id": "W-KUO-WgAF7v",
        "outputId": "2a8499b3-1a57-4571-fd61-03edd0eb6a39"
      },
      "source": [
        "so2 = sum((fp - y1_mean) ** 2) + sum((hp - y2_mean) ** 2) + sum((wl - y3_mean) ** 2)\n",
        "so2"
      ],
      "execution_count": 28,
      "outputs": [
        {
          "output_type": "execute_result",
          "data": {
            "text/plain": [
              "577.0568181818181"
            ]
          },
          "metadata": {},
          "execution_count": 28
        }
      ]
    },
    {
      "cell_type": "code",
      "metadata": {
        "colab": {
          "base_uri": "https://localhost:8080/"
        },
        "id": "IlMk0e39Awos",
        "outputId": "23cb7ba5-7eba-451e-f064-c9cb84c478eb"
      },
      "source": [
        "sigmaf2 = (1 / (k - 1)) * sf2\n",
        "sigmaf2"
      ],
      "execution_count": 31,
      "outputs": [
        {
          "output_type": "execute_result",
          "data": {
            "text/plain": [
              "126.9537337662339"
            ]
          },
          "metadata": {},
          "execution_count": 31
        }
      ]
    },
    {
      "cell_type": "code",
      "metadata": {
        "colab": {
          "base_uri": "https://localhost:8080/"
        },
        "id": "W9O0_sgeBW_1",
        "outputId": "fc47dcc5-b03e-47a5-ec63-98cce14dfc10"
      },
      "source": [
        "sigmao2 = so2 / (n - k)\n",
        "sigmao2"
      ],
      "execution_count": 32,
      "outputs": [
        {
          "output_type": "execute_result",
          "data": {
            "text/plain": [
              "23.082272727272724"
            ]
          },
          "metadata": {},
          "execution_count": 32
        }
      ]
    },
    {
      "cell_type": "code",
      "metadata": {
        "colab": {
          "base_uri": "https://localhost:8080/"
        },
        "id": "Z08tmeRGA1yY",
        "outputId": "ad5d678e-3d18-4fb8-897d-77b0c81005fd"
      },
      "source": [
        "fh = sigmaf2 / sigmao2\n",
        "fh"
      ],
      "execution_count": 37,
      "outputs": [
        {
          "output_type": "execute_result",
          "data": {
            "text/plain": [
              "5.500053450812599"
            ]
          },
          "metadata": {},
          "execution_count": 37
        }
      ]
    },
    {
      "cell_type": "markdown",
      "metadata": {
        "id": "b6uYpYNGC5bj"
      },
      "source": [
        "Табличное значение критерия фишера для a(0.05) = 3.39\n",
        "Так как 5.5 > 3.39 верна альтернативная гипотеза.\n",
        "Следовательно существуют различия среднего роста в зависимости от вида спорта, в представленных группах"
      ]
    }
  ]
}